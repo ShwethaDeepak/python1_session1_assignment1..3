{
 "cells": [
  {
   "cell_type": "code",
   "execution_count": 1,
   "metadata": {},
   "outputs": [
    {
     "name": "stdout",
     "output_type": "stream",
     "text": [
      "enter your nameshwetha\n",
      "enter your nameDeepak\n",
      "ahtewhs   kapeeD\n"
     ]
    }
   ],
   "source": [
    "first_name = input(\"enter your name\")\n",
    "second_name = input (\"enter your name\")\n",
    "print(first_name[::-1] , \" \"  ,second_name[::-1])#using slicing"
   ]
  },
  {
   "cell_type": "code",
   "execution_count": 10,
   "metadata": {},
   "outputs": [
    {
     "name": "stdout",
     "output_type": "stream",
     "text": [
      "enter first nameshwetha\n",
      "enter second namedeepak\n",
      "ahtewhs   kapeed\n"
     ]
    }
   ],
   "source": [
    "first_name = input(\"enter first name\")\n",
    "last_name = input(\"enter second name\")\n",
    "reverse_first_name = first_name[::-1]\n",
    "reverse_last_name = last_name[::-1]\n",
    "print(reverse_first_name,\" \",reverse_last_name)\n"
   ]
  },
  {
   "cell_type": "code",
   "execution_count": null,
   "metadata": {
    "collapsed": true
   },
   "outputs": [],
   "source": []
  }
 ],
 "metadata": {
  "kernelspec": {
   "display_name": "Python 3",
   "language": "python",
   "name": "python3"
  },
  "language_info": {
   "codemirror_mode": {
    "name": "ipython",
    "version": 3
   },
   "file_extension": ".py",
   "mimetype": "text/x-python",
   "name": "python",
   "nbconvert_exporter": "python",
   "pygments_lexer": "ipython3",
   "version": "3.6.3"
  }
 },
 "nbformat": 4,
 "nbformat_minor": 2
}
